{
 "cells": [
  {
   "cell_type": "markdown",
   "id": "7c0d5687",
   "metadata": {},
   "source": [
    "## Load necessary libraries"
   ]
  },
  {
   "cell_type": "code",
   "execution_count": 1,
   "id": "fa24894a",
   "metadata": {},
   "outputs": [],
   "source": [
    "import numpy as np\n",
    "import matplotlib.pyplot as plt\n",
    "import time, copy, warnings\n",
    "\n",
    "\n",
    "import torch\n",
    "from torch import nn\n",
    "import torch.nn.functional as F\n",
    "\n",
    "\n",
    "# setting random seeds for reproducibility of results\n",
    "torch.manual_seed(0)\n",
    "np.random.seed(0)\n"
   ]
  },
  {
   "cell_type": "markdown",
   "id": "5d926b86",
   "metadata": {},
   "source": [
    "## functions to generate a QUBO problem instance, to compute all the energies, and to find global minimum through an exhaustive search \n",
    "\n",
    "$ $\n",
    "\n",
    "A $n$-variable quadratic unconstrained binary optimization (QUBO) problem is equivalent to find a minimum energy eigenstate \n",
    "$E_\\text{min} = \\min_j \\{E_j\\}$, $E_j = \\langle j |H| j\\rangle \n",
    "= \\sum_{\\mu,\\nu=1}^n \\mathsf{Q}_{\\mu\\nu} j_\\mu j_\\nu$, \n",
    "of the associated $n$-qubit Hamiltonian \n",
    "$H = \\sum_{\\mu,\\nu=1}^n \\mathsf{Q}_{\\mu\\nu} P_\\mu P_\\nu$,\n",
    "where $\\mathsf{Q}$ is a $n\\times n$ real matrix that defines the problem, and the projector $P_\\mu$ acts on the $\\mu$th qubit as $P_\\mu|j_\\mu \\rangle = j_\\mu|j_\\mu \\rangle\\,, j_\\mu\\in\\{0,1\\}, |j\\rangle \\equiv \\otimes_\\mu |j_\\mu\\rangle, j=0,\\cdots,d-1$, and $d=2^n$.\n",
    "You can sample $\\mathsf{Q}$ either from the discrete uniform distribution on $\\{-10,\\cdots,10\\}$ or from the standard normal distribution.\n",
    "\n",
    "$ $"
   ]
  },
  {
   "cell_type": "code",
   "execution_count": 2,
   "id": "bd866b20",
   "metadata": {},
   "outputs": [],
   "source": [
    "def energy(j, Q):                                                # one-to-one correspondence: integer j <--> j_bin\n",
    "    j_bin = np.array([int(jmu) for jmu in np.binary_repr(j, n)]) # j_bin has n components, each one is 0 or 1\n",
    "    E = np.linalg.multi_dot([j_bin, Q, j_bin])                   # E = energy for a given j\n",
    "    return E\n",
    "    \n",
    "\n",
    "def energies(n):                                # n = number of qubits\n",
    "    d = 2**n                                    # d = dimension of the n-qubit Hilbert space\n",
    "                                                # generating upper triangular real Q matrix\n",
    "    #Q = np.random.randint(-10, 11, (n, n))     # from the discrete uniform distribution on {-10,...,10}\n",
    "    Q = np.random.randn(n,n)                    # from the standard normal distribution\n",
    "    Q = np.triu(Q)\n",
    "\n",
    "    engs = []                                   # collection of all possible d energies for different j\n",
    "    j_min, E_min = None, np.inf\n",
    "    for j in range(d):                                                                                \n",
    "        E = energy(j, Q)              \n",
    "        engs.append(E)\n",
    "        if E < E_min:\n",
    "            E_min = E      # global minimum through an exhaustive search \n",
    "            j_min = j      # global minimum solution\n",
    "    \n",
    "    return np.array(engs), E_min, j_min             \n"
   ]
  },
  {
   "cell_type": "markdown",
   "id": "22fa0a87",
   "metadata": {},
   "source": [
    "## Quantum Machine Learning (QML) model : Interferometric Neural Network (INN)\n",
    "\n",
    "\n",
    "<img src=\"Int.png\" width=\"70%\" height=\"50%\">\n",
    "\n",
    "\n",
    "Beamsplitter (the discrete Fourier transformation)\n",
    "$F = \\frac{1}{\\sqrt{d}}\\sum_{k=0}^{d-1} \\sum_{j=0}^{d-1} \\omega^{\\,kj}\\,|k \\rangle\\langle j|$, where ${\\omega=\\text{e}^{\\texttt{i}\\frac{2\\pi}{d}}}$ is a $d$th root of unity.\n",
    "\n",
    "phase shifter\n",
    "$U(\\boldsymbol{\\phi}) = \\sum_{j=0}^{d-1}  \\text{e}^{\\texttt{i}\\phi_j}|j \\rangle\\langle j|$\n",
    "\n",
    "Here the input state is fixed:\n",
    "$F|\\textbf{x}\\rangle = F|0 \\rangle = \\frac{1}{\\sqrt{d}}\\sum_{j=0}^{d-1}|j \\rangle = |+ \\rangle$"
   ]
  },
  {
   "cell_type": "code",
   "execution_count": 3,
   "id": "e20e53bd",
   "metadata": {},
   "outputs": [],
   "source": [
    "class Interferometer(nn.Module):\n",
    "    def __init__(self, d):\n",
    "        super(Interferometer, self).__init__()\n",
    "        \n",
    "        \n",
    "        torch.manual_seed(1)                              # setting a specific seed for reproducibility of results    \n",
    "        phases = torch.empty((1, d), dtype=torch.float)   # Initialize learnable phases\n",
    "        nn.init.xavier_uniform_(phases)     \n",
    "        self.phases = nn.Parameter(phases) \n",
    "        \n",
    "        \n",
    "    def forward(self, x):                          \n",
    "        x = x * torch.exp(1j * self.phases)        # Perform the phase shifter\n",
    "        x = torch.fft.fft(x, norm='ortho')         # Perform 1D Fast Fourier Transform (beamsplitter)\n",
    "        return x                                  \n",
    "\n",
    "    \n",
    "#------------------------------------------------------------------------------------------------\n",
    "\n",
    "'''Here, the INN is a sequence L Interferometers'''\n",
    "\n",
    "class INN(nn.Module):                                      \n",
    "    def __init__(self, d, L):                 \n",
    "        super(INN, self).__init__()\n",
    "        \n",
    "        self.d = d\n",
    "        self.L = L                                             # number of quantum layers\n",
    "        \n",
    "        self.phase_filters_layers = nn.ModuleList([Interferometer(d) for _ in range(L)])\n",
    "        \n",
    "        \n",
    "    def forward(self):   # initialize x to |+> ket that is an equal superposition of all computational basis-kets\n",
    "        x = torch.ones(self.d)/torch.sqrt(torch.tensor(self.d))   # |+> = F|0>\n",
    "        \n",
    "        for phase_filters in self.phase_filters_layers:\n",
    "            x = phase_filters(x)\n",
    "        \n",
    "        x = x*(x.conj())                 # measurement in the computational basis and getting the probabilities \n",
    "        x = torch.real(x).squeeze()      # dropping the imaginary components 0j\n",
    "    \n",
    "        return x \n",
    "    \n",
    "\n",
    "#================================================================================================\n",
    "\n",
    "def training(Es):\n",
    "    model.train()\n",
    "    optimizer.zero_grad()               # Clear gradients\n",
    "    out = model()                       # Perform a single forward pass, out = 𝐩(Φ) = (𝑝0,⋯,𝑝dim-1) \n",
    "    #print(torch.sum(out))              # Checking whether probabilities add up to 1 or not\n",
    "    loss = torch.dot(out, torch.tensor(Es, dtype=torch.float)) # 𝐿𝑜𝑠𝑠(Φ)=⟨Φ|𝐻|Φ⟩ = ∑𝑝j𝐸j is the energy expectation\n",
    "    loss.backward()                     # Derive gradients\n",
    "    optimizer.step()                    # Update parameters based on gradients\n",
    "    return loss\n",
    "\n",
    "#================================================================================================ \n",
    "\n",
    "def plot(engs, E_min, E_sol):\n",
    "    #plt.stem(engs)\n",
    "    plt.scatter(np.arange(d), engs, s=10, c='blue')\n",
    "    plt.axhline(y = 0, color = 'black', linestyle = '-')\n",
    "    plt.axhline(y = E_min, color = 'red', linestyle = '-')\n",
    "    plt.ylabel(r'$E_j = \\langle j|H|j\\rangle$')\n",
    "    plt.axhline(y = E_sol, color = 'green', linestyle = '--', linewidth=3, alpha=0.7)\n",
    "    plt.xlabel('j')\n",
    "    plt.show()\n",
    "    "
   ]
  },
  {
   "cell_type": "markdown",
   "id": "6e8f50e6",
   "metadata": {},
   "source": [
    "## Optimality Gaps in different QUBO problem instances"
   ]
  },
  {
   "cell_type": "code",
   "execution_count": 4,
   "id": "479b9bf0",
   "metadata": {},
   "outputs": [
    {
     "name": "stdout",
     "output_type": "stream",
     "text": [
      "instance: 000    optimality gap: 0.00 %     (E_sol, E_min) = (-20.130876210948163, -20.130876210948163)\n",
      "instance: 100    optimality gap: 0.00 %     (E_sol, E_min) = (-20.96347590127728, -20.96347590127728)\n",
      "instance: 200    optimality gap: 0.00 %     (E_sol, E_min) = (-21.119191724452225, -21.119191724452225)\n",
      "instance: 300    optimality gap: 0.00 %     (E_sol, E_min) = (-6.778500909092535, -6.778500909092535)\n",
      "instance: 400    optimality gap: 0.00 %     (E_sol, E_min) = (-20.937425919336533, -20.937425919336533)\n",
      "instance: 500    optimality gap: 0.00 %     (E_sol, E_min) = (-20.29662929791426, -20.29662929791426)\n",
      "instance: 600    optimality gap: 0.00 %     (E_sol, E_min) = (-27.12712052638919, -27.12712052638919)\n",
      "instance: 700    optimality gap: 0.00 %     (E_sol, E_min) = (-19.693225516594243, -19.693225516594243)\n",
      "instance: 800    optimality gap: 0.00 %     (E_sol, E_min) = (-24.943461162835746, -24.943461162835746)\n",
      "instance: 900    optimality gap: 0.00 %     (E_sol, E_min) = (-29.003659249265578, -29.003659249265578)\n",
      "\n",
      "CPU times: user 1h 41min 4s, sys: 1min 53s, total: 1h 42min 57s\n",
      "Wall time: 48min 34s\n"
     ]
    }
   ],
   "source": [
    "%%time\n",
    "\n",
    "n = 17\n",
    "L = 2\n",
    "epochs = 201\n",
    "num_instance = 1000\n",
    "\n",
    "d = 2**n\n",
    "\n",
    "\n",
    "#================================================================================================\n",
    "Opt_Gap = []\n",
    "\n",
    "for i in range(num_instance):\n",
    "    \n",
    "    # generating a QUBO problem instance, computing all the energies, global minimum through an exhaustive search\n",
    "    engs, E_min, j_min  = energies(n=n)   \n",
    " \n",
    "    #-----------------------------------------------------------------------------------------\n",
    "    \n",
    "    model = INN(d=d,L=L)                                                         # initalizing the QML model\n",
    "    optimizer = torch.optim.Adam(model.parameters(), lr=0.05, betas=(0.5, 0.9))  \n",
    "    for epoch in range(epochs):                                                  # model training ...\n",
    "        loss = training(engs)\n",
    "    \n",
    "    #-----------------------------------------------------------------------------------------\n",
    "    \n",
    "    out_prob = model().detach()            # after the training, get the output porbabilities\n",
    "\n",
    "    j_sol = torch.argmax(out_prob)         # j corresponding to the maximum probability will be our solution\n",
    "    E_sol = engs[j_sol]                    # obtained minimum through INN\n",
    "    \n",
    "    \n",
    "    # optimality gap = |(obtained min - global min) / global min| 100 %\n",
    "    opt_gap = abs((E_sol - E_min)/(E_min+1e-10)) * 100 \n",
    "    \n",
    "    Opt_Gap.append(opt_gap)\n",
    "    \n",
    "    if i % 100 == 0:\n",
    "        #plot(engs, E_min, E_sol)\n",
    "        print(f'instance: {i:03d}    optimality gap: {opt_gap:.2f} %     (E_sol, E_min) = {E_sol, E_min}')\n",
    "\n",
    "    \n",
    "print()"
   ]
  },
  {
   "cell_type": "markdown",
   "id": "e27a460f",
   "metadata": {},
   "source": [
    "## Save optimality gaps for the problem instances"
   ]
  },
  {
   "cell_type": "code",
   "execution_count": 5,
   "id": "b11dedc8",
   "metadata": {},
   "outputs": [],
   "source": [
    "#np.save('opt_gap_uniform.npy', Opt_Gap)  # Q is sampled from the discrete uniform distribution on {-10,...,10}\n",
    "#np.save('opt_gap_normal.npy', Opt_Gap)   # Q is sampled from the standard normal distribution\n",
    "\n",
    "\n",
    "\n",
    "Opt_Gap_uniform = np.load('opt_gap_uniform.npy')\n",
    "Opt_Gap_normal = np.load('opt_gap_normal.npy')\n"
   ]
  },
  {
   "cell_type": "markdown",
   "id": "273dc709",
   "metadata": {},
   "source": [
    "## Plot optimality gaps for the problem instances"
   ]
  },
  {
   "cell_type": "code",
   "execution_count": 6,
   "id": "a30a9367",
   "metadata": {},
   "outputs": [
    {
     "data": {
      "image/png": "[encoded data removed]",
      "text/plain": [
       "<Figure size 576x288 with 1 Axes>"
      ]
     },
     "metadata": {
      "needs_background": "light"
     },
     "output_type": "display_data"
    },
    {
     "name": "stdout",
     "output_type": "stream",
     "text": [
      "Q is sampled from the discrete uniform distribution on {-10,...,10}\n",
      "[min, mean, max] optimality gap = [0.   0.04 1.72] %\n",
      "Where optimality gap <= 1e-10, the number of instances is 958\n",
      "\n",
      "Q is sampled from the standard normal distribution\n",
      "[min, mean, max] optimality gap = [0.   0.04 1.52] %\n",
      "Where optimality gap <= 1e-10, the number of instances is 894\n"
     ]
    }
   ],
   "source": [
    "\n",
    "plt.figure(figsize=(8, 4))\n",
    "plt.scatter(np.arange(len(Opt_Gap_uniform)), Opt_Gap_uniform, s=50, marker='o', facecolors='none', edgecolors='r',\n",
    "            label='discrete uniform')\n",
    "plt.scatter(np.arange(len(Opt_Gap_normal)), Opt_Gap_normal, s=10, c='b', marker='^', alpha=0.9,\n",
    "           label='standard normal')\n",
    "plt.ylabel(r'optimality gap (%)', fontsize=15)\n",
    "plt.xlabel('problem instances', fontsize=15)\n",
    "plt.yticks(fontsize=13)\n",
    "plt.xticks([])\n",
    "plt.legend(fontsize=13)\n",
    "plt.show()\n",
    "\n",
    "\n",
    "print('Q is sampled from the discrete uniform distribution on {-10,...,10}')\n",
    "min_mean_max_opt_gap_uniform = np.round([np.min(Opt_Gap_uniform), np.mean(Opt_Gap_uniform), \n",
    "                                         np.max(Opt_Gap_uniform)],2)\n",
    "print(f'[min, mean, max] optimality gap = {min_mean_max_opt_gap_uniform} %')\n",
    "print(f'Where optimality gap <= 1e-10, the number of instances is {len(np.where(np.array(Opt_Gap_uniform)<=1e-10)[0])}\\n')\n",
    "\n",
    "\n",
    "\n",
    "\n",
    "print('Q is sampled from the standard normal distribution')\n",
    "min_mean_max_opt_gap_normal = np.round([np.min(Opt_Gap_normal), np.mean(Opt_Gap_normal), \n",
    "                                        np.max(Opt_Gap_normal)],2)\n",
    "print(f'[min, mean, max] optimality gap = {min_mean_max_opt_gap_normal} %')\n",
    "print(f'Where optimality gap <= 1e-10, the number of instances is {len(np.where(np.array(Opt_Gap_normal)<=1e-10)[0])}')"
   ]
  },
  {
   "cell_type": "markdown",
   "id": "ba0b9f67",
   "metadata": {},
   "source": [
    "# $ $\n",
    "\n",
    "\n",
    "\n",
    "\n",
    "$ $"
   ]
  }
 ],
 "metadata": {
  "kernelspec": {
   "display_name": "Python 3 (ipykernel)",
   "language": "python",
   "name": "python3"
  },
  "language_info": {
   "codemirror_mode": {
    "name": "ipython",
    "version": 3
   },
   "file_extension": ".py",
   "mimetype": "text/x-python",
   "name": "python",
   "nbconvert_exporter": "python",
   "pygments_lexer": "ipython3",
   "version": "3.10.12"
  }
 },
 "nbformat": 4,
 "nbformat_minor": 5
}
