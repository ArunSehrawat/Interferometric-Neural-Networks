{
 "cells": [
  {
   "cell_type": "markdown",
   "id": "89319537",
   "metadata": {},
   "source": [
    "## Load necessary libraries"
   ]
  },
  {
   "cell_type": "code",
   "execution_count": 1,
   "id": "349fb80c",
   "metadata": {},
   "outputs": [],
   "source": [
    "import numpy as np\n",
    "import matplotlib.pyplot as plt\n",
    "\n",
    "import time, copy\n",
    "\n",
    "import torch\n",
    "from torch import nn\n",
    "import torch.nn.functional as F\n",
    "from torch.utils.data import DataLoader\n",
    "from torchvision import datasets, transforms\n",
    "\n",
    "from sklearn.metrics import classification_report, confusion_matrix, accuracy_score, roc_auc_score, f1_score\n",
    "\n",
    "\n",
    "# setting random seeds for reproducibility of results\n",
    "torch.manual_seed(0)\n",
    "np.random.seed(0)\n"
   ]
  },
  {
   "cell_type": "markdown",
   "id": "dcbdabb7",
   "metadata": {},
   "source": [
    "## Load and transform a dataset\n",
    "\n",
    "__MNIST__ dataset contains images of 0 to 9 handwritten digits.\n",
    "__FashionMNIST__ dataset contains images of ten (labeled 0 to 9) different clothing categories: T-shirts/tops, trousers, pullovers, dresses, coats, sandals, shirts, sneakers, bags, and ankle boots."
   ]
  },
  {
   "cell_type": "code",
   "execution_count": 2,
   "id": "0b35907a",
   "metadata": {},
   "outputs": [
    {
     "name": "stdout",
     "output_type": "stream",
     "text": [
      "image Hight = image Width = 16\n",
      "img_HW**2 = dimension of the Hilbert space = d = 256 \n",
      "\n",
      "MNIST \n",
      "\n",
      "number of (train, test) examples = (60000, 10000)\n",
      "number of classes = 10\n"
     ]
    }
   ],
   "source": [
    "\n",
    "img_HW = 16            \n",
    "d = img_HW**2   \n",
    "\n",
    "print(f'image Hight = image Width = {img_HW}')\n",
    "print(f'img_HW**2 = dimension of the Hilbert space = d = {d} \\n')\n",
    "\n",
    "\n",
    "#================================================================================================\n",
    "\n",
    "\n",
    "transform = transforms.Compose([ \n",
    "    transforms.Resize((img_HW, img_HW)),                          # resize image \n",
    "    transforms.ToTensor(),                                        # to transform an image into a tensor\n",
    "    transforms.Normalize(mean=(0.5,), std=(0.5,))                 # to put all the values between -1 and 1\n",
    "])\n",
    "\n",
    "\n",
    "\n",
    "def load_dataset(name):\n",
    "    print(name,'\\n')\n",
    "    if name == \"FashionMNIST\":\n",
    "        train_dataset = datasets.FashionMNIST(root=\"/home/qpi/Documents/QML/image_datasets/FashionMNIST\", \n",
    "                                              train=True, download=True, transform=transform)\n",
    "        test_dataset = datasets.FashionMNIST(root=\"/home/qpi/Documents/QML/image_datasets/FashionMNIST\", \n",
    "                                             train=False, download=True, transform=transform)\n",
    "    elif name == \"MNIST\":\n",
    "        train_dataset = datasets.MNIST(root=\"/home/qpi/Documents/QML/image_datasets/MNIST\", \n",
    "                                       train=True, download=True, transform=transform)\n",
    "        test_dataset = datasets.MNIST(root=\"/home/qpi/Documents/QML/image_datasets/MNIST\", \n",
    "                                      train=False, download=True, transform=transform)\n",
    "    return train_dataset, test_dataset \n",
    "\n",
    "\n",
    "#================================================================================================\n",
    "\n",
    "\n",
    "train_dataset, test_dataset = load_dataset(\"MNIST\")        # Choose either \"MNIST\" or \"FashionMNIST\"\n",
    "print(f'number of (train, test) examples = {len(train_dataset), len(test_dataset)}')\n",
    "\n",
    "\n",
    "num_classes = 10\n",
    "print(f'number of classes = {num_classes}')\n",
    "classes = list(range(num_classes))\n"
   ]
  },
  {
   "cell_type": "markdown",
   "id": "09367beb",
   "metadata": {},
   "source": [
    "### View a training example:"
   ]
  },
  {
   "cell_type": "code",
   "execution_count": 3,
   "id": "0eaa7b82",
   "metadata": {
    "scrolled": false
   },
   "outputs": [
    {
     "name": "stdout",
     "output_type": "stream",
     "text": [
      "x of torch.Size([1, 16, 16]) :\n"
     ]
    },
    {
     "data": {
      "image/png": "[encoded data removed]",
      "text/plain": [
       "<Figure size 432x288 with 1 Axes>"
      ]
     },
     "metadata": {
      "needs_background": "light"
     },
     "output_type": "display_data"
    },
    {
     "name": "stdout",
     "output_type": "stream",
     "text": [
      "true label = y = 4\n",
      "\n",
      "(x_min, x_max) = (-1.0, 0.984)\n"
     ]
    }
   ],
   "source": [
    "idx = np.random.choice(len(train_dataset))\n",
    "\n",
    "x = train_dataset[idx][0]\n",
    "print(f'x of {x.shape} :')\n",
    "\n",
    "plt.imshow(x[0], cmap='gray')\n",
    "plt.show()\n",
    "\n",
    "print(f'true label = y = {train_dataset[idx][1]}\\n')\n",
    "\n",
    "print(f'(x_min, x_max) = {x.min().item(), round(x.max().item(),3)}')"
   ]
  },
  {
   "cell_type": "markdown",
   "id": "519ac1b9",
   "metadata": {},
   "source": [
    "## Define Quantum Machine Learning (QML) model : Interferometric Neural Network (INN)"
   ]
  },
  {
   "cell_type": "code",
   "execution_count": 4,
   "id": "877bc4a5",
   "metadata": {},
   "outputs": [],
   "source": [
    "\n",
    "class parallel_interferometers(nn.Module):\n",
    "    def __init__(self, dim_out, dim_in):\n",
    "        super(parallel_interferometers, self).__init__()\n",
    "        \n",
    "        self.dim_out = dim_out                                            # output dimention \n",
    "        self.dim_in = dim_in                                              # input dimention \n",
    "                                          \n",
    "        torch.manual_seed(1)                         # setting a specific seed for reproducibility of results\n",
    "        phases = torch.randn((1, dim_out, dim_in), dtype=torch.float)     # Initialize learnable phases \n",
    "        nn.init.xavier_uniform_(phases)     \n",
    "        self.phases = nn.Parameter(phases) \n",
    "        \n",
    "        \n",
    "    def forward(self, x):                          # x.shape = (batch_size, 1 or dim_out, dim_in) \n",
    "        x = x * torch.exp(1j * self.phases)        # Perform dim_out parallel phase shifters\n",
    "        x = torch.fft.fft(x, norm='ortho')         # Perform parallel 1D Fast Fourier Transforms (beamsplitters)\n",
    "        return x                                   # x.shape = (batch_size, dim_out, dim_in)\n",
    "    "
   ]
  },
  {
   "attachments": {
    "Int_Blk.png": {
     "image/png": "[encoded data removed]"
    }
   },
   "cell_type": "markdown",
   "id": "d5f986b9",
   "metadata": {},
   "source": [
    "__An interferometric block :__ $d_\\text{out}$ parallel sequences of interferometers. Each sequence (represented by, $U(\\Phi)$, square) has $L$ interferometers.\n",
    "\n",
    "![Int_Blk.png](attachment:Int_Blk.png)\n"
   ]
  },
  {
   "cell_type": "code",
   "execution_count": 5,
   "id": "c5c32d6a",
   "metadata": {},
   "outputs": [],
   "source": [
    "\n",
    "class interferometric_block(nn.Module):                                      \n",
    "    def __init__(self, dim_out, dim_in, L, channels=1):                 \n",
    "        super(interferometric_block, self).__init__()\n",
    "        \n",
    "        self.dim_out = dim_out                                            # output dimention \n",
    "        self.dim_in = dim_in                                              # input dimention \n",
    "        self.L = L                                                        # number of quantum layers\n",
    "        self.channels = channels\n",
    "        \n",
    "        self.phase_filters_layers = nn.ModuleList([parallel_interferometers(dim_out, dim_in) for _ in range(L)])\n",
    "        \n",
    "        \n",
    "    def forward(self, x):\n",
    "        x = x.view(-1, self.channels, self.dim_in)\n",
    "        \n",
    "        x = F.normalize(x, dim=-1)           # amplitude encodings  x -->  |x>\n",
    "        \n",
    "        #------------------------------------------------------------------------------------ \n",
    "        \n",
    "        x = torch.fft.fft(x, norm='ortho')   # First ID Fast Fourier Transforms (beamsplitters)\n",
    "        \n",
    "        for phase_filters in self.phase_filters_layers:\n",
    "            x = phase_filters(x)\n",
    "            \n",
    "         #------------------------------------------------------------------------------------\n",
    "            \n",
    "        x = x*(x.conj())                     # measurement in the computational basis and getting probabilities \n",
    "        x = torch.real(x)                    # dropping the imaginary components 0j\n",
    "\n",
    "        x = x[:,:,0]                         # probability of getting 0 outcome from each sequence\n",
    "    \n",
    "        return x \n",
    "    \n",
    "    "
   ]
  },
  {
   "attachments": {
    "2Blks.png": {
     "image/png": "[encoded data removed]"
    }
   },
   "cell_type": "markdown",
   "id": "0cd4f985",
   "metadata": {},
   "source": [
    "Here, __an Interferometric Neural Networks (INN)__ is made of $M=2$ blocks, where the dimensions $\\textbf{d}ims=(d_0,d_1,d_2)=(2^8, 2^6, 10)$ and\n",
    "the quantum layers $\\textbf{L}s = (L_0,L_1)=(1,1)$ or $\\textbf{L}s=(2,2)$.\n",
    "\n",
    "![2Blks.png](attachment:2Blks.png)\n"
   ]
  },
  {
   "cell_type": "code",
   "execution_count": 6,
   "id": "47fbdbcf",
   "metadata": {},
   "outputs": [],
   "source": [
    "   \n",
    "class INN(nn.Module):                               # Define QML model = Interferometric Neural Network (INN)\n",
    "    def __init__(self, dims, Ls):                                \n",
    "        super(INN, self).__init__()\n",
    "        \n",
    "        self.dims = dims                            # dimension of a feature vector before or after a block\n",
    "        self.Ls = Ls                                # number of quantum layers in a block\n",
    "        self.M = len(dims) - 1                      # number of blocks = M\n",
    "        \n",
    "        \n",
    "        self.blocks = nn.ModuleList()               # Initialize an empty ModuleList\n",
    "        \n",
    "        for i in range(self.M-1):\n",
    "            self.blocks.append(interferometric_block(dim_out=dims[i+1], dim_in=dims[i], L=Ls[i]))\n",
    "        \n",
    "        self.last_block = interferometric_block(dim_out=dims[-1], dim_in=dims[-2], L=Ls[-1])\n",
    "        \n",
    "        \n",
    "    def forward(self, x):  \n",
    "        \n",
    "        for block in self.blocks:\n",
    "            x = block(x)\n",
    "            \n",
    "        x = self.last_block(x)\n",
    "        \n",
    "        return x "
   ]
  },
  {
   "cell_type": "markdown",
   "id": "9f0bb466",
   "metadata": {},
   "source": [
    "## Define device, hyperparameters, dataloader"
   ]
  },
  {
   "cell_type": "code",
   "execution_count": 7,
   "id": "63bde7ba",
   "metadata": {},
   "outputs": [
    {
     "name": "stdout",
     "output_type": "stream",
     "text": [
      "device = cpu\n",
      "image Hight = image Width = 16\n",
      "dimension of the Hilbert space = d = 256\n",
      "\n",
      "dimension of a feature vector after a block = [256, 64, 10]\n",
      "number of quantum layers in a block = [2, 2]\n",
      "number of learnable (parameters) phases in the model = 34048\n",
      "\n",
      "number of batches = 1875, batch_size = 32\n",
      "\n"
     ]
    }
   ],
   "source": [
    "device = \"cuda\" if torch.cuda.is_available() else \"cpu\"\n",
    "print(f'device = {device}')\n",
    "torch.set_num_threads(1)                                             # it is for reproducibility of results\n",
    "\n",
    "#==================================================================\n",
    "\n",
    "print(f'image Hight = image Width = {img_HW}')\n",
    "print(f'dimension of the Hilbert space = d = {d}\\n')\n",
    "\n",
    "\n",
    "\n",
    "dims = [d, 2**6, num_classes]\n",
    "Ls = [2,2]                                           # set Ls = [2,2] or Ls = [1, 1] to get our reported Results\n",
    "print(f'dimension of a feature vector after a block = {dims}')\n",
    "print(f'number of quantum layers in a block = {Ls}')\n",
    "\n",
    "num_phases = int(np.sum(np.array(dims[:-1]) * Ls * dims[1:]))\n",
    "print(f'number of learnable (parameters) phases in the model = {num_phases}\\n')\n",
    "\n",
    "#---------------------------------------------------------------\n",
    "# optimizer Adam's hyperparameters\n",
    "\n",
    "lr = 1e-2\n",
    "\n",
    "b1 = 0.5\n",
    "b2 = 0.9\n",
    "\n",
    "#==================================================================\n",
    "\n",
    "batch_size = 2**5\n",
    "epochs = 3\n",
    "\n",
    "train_dataloader = DataLoader(train_dataset, batch_size=batch_size, shuffle=True)\n",
    "num_batches = len(train_dataloader)\n",
    "print(f'number of batches = {num_batches}, batch_size = {batch_size}\\n')\n",
    "\n",
    "test_dataloader = DataLoader(test_dataset, batch_size=batch_size, shuffle=True)"
   ]
  },
  {
   "cell_type": "markdown",
   "id": "834b1b08",
   "metadata": {},
   "source": [
    "## Training..."
   ]
  },
  {
   "cell_type": "code",
   "execution_count": 8,
   "id": "f7fd46be",
   "metadata": {
    "scrolled": false
   },
   "outputs": [
    {
     "name": "stdout",
     "output_type": "stream",
     "text": [
      "\n",
      "Epoch  0 ---------------------------------- \n",
      "\n",
      "after    0 batch      train loss: 2.3026\n",
      "after  200 batch      train loss: 1.8947\n",
      "after  400 batch      train loss: 1.8236\n",
      "after  600 batch      train loss: 1.6926\n",
      "after  800 batch      train loss: 1.6886\n",
      "after 1000 batch      train loss: 1.5805\n",
      "after 1200 batch      train loss: 1.5900\n",
      "after 1400 batch      train loss: 1.6069\n",
      "after 1600 batch      train loss: 1.6313\n",
      "after 1800 batch      train loss: 1.5817\n",
      "\n",
      "Epoch  1 ---------------------------------- \n",
      "\n",
      "after    0 batch      train loss: 1.5501\n",
      "after  200 batch      train loss: 1.5541\n",
      "after  400 batch      train loss: 1.5664\n",
      "after  600 batch      train loss: 1.6554\n",
      "after  800 batch      train loss: 1.6449\n",
      "after 1000 batch      train loss: 1.6025\n",
      "after 1200 batch      train loss: 1.5900\n",
      "after 1400 batch      train loss: 1.5905\n",
      "after 1600 batch      train loss: 1.6410\n",
      "after 1800 batch      train loss: 1.6129\n",
      "\n",
      "Epoch  2 ---------------------------------- \n",
      "\n",
      "after    0 batch      train loss: 1.5834\n",
      "after  200 batch      train loss: 1.6431\n",
      "after  400 batch      train loss: 1.6391\n",
      "after  600 batch      train loss: 1.5720\n",
      "after  800 batch      train loss: 1.6022\n",
      "after 1000 batch      train loss: 1.5661\n",
      "after 1200 batch      train loss: 1.6687\n",
      "after 1400 batch      train loss: 1.5785\n",
      "after 1600 batch      train loss: 1.6010\n",
      "after 1800 batch      train loss: 1.5399\n",
      "\n",
      " ~~~~~ training is done ~~~~~\n",
      " \n",
      "CPU times: user 2min, sys: 3.36 s, total: 2min 4s\n",
      "Wall time: 2min 4s\n"
     ]
    }
   ],
   "source": [
    "%%time\n",
    "\n",
    "                        \n",
    "model = INN(dims=dims, Ls=Ls).to(device)                                   # start the QML model instance\n",
    "optimizer = torch.optim.Adam(model.parameters(), lr=lr, betas=(b1, b2))    # define optimizer for the model\n",
    "loss_fn = nn.CrossEntropyLoss()                                            # define loss functions for the model\n",
    "\n",
    "\n",
    "\n",
    "#~~~~~~~~~~~~~~~~~~~~~~~~~~~~~~~~~~~~~~~~~~~~~~~~~~~~~~~~~~~~~~~~~~~~~~~~~~~~~~~~~~~~~~~\n",
    "Train_Loss = []\n",
    "for t in range(epochs):\n",
    "    print()\n",
    "    print(f\"Epoch {t:2d} ---------------------------------- \\n\")\n",
    "    for batch_idx, (X, y) in enumerate(train_dataloader):\n",
    "\n",
    "        X, y = X.to(device), y.to(device) \n",
    "        \n",
    "        out = model(X)                            # Perform a single forward pass through the model\n",
    "        loss = loss_fn(out, y)\n",
    "   \n",
    "        model.zero_grad()                         # Clear gradients \n",
    "        loss.backward(retain_graph=True)          # Derive gradients, backpropagation \n",
    "        optimizer.step()                          # Update parameters of the model based on gradients\n",
    "\n",
    "        #-------------------------------------------------------------------------------\n",
    "        \n",
    "        if batch_idx % 200 == 0: \n",
    "            print(f'after {batch_idx:4d} batch      train loss: {loss:.4f}') \n",
    "            Train_Loss.append(loss.detach().item())\n",
    "            \n",
    "                                      \n",
    "#~~~~~~~~~~~~~~~~~~~~~~~~~~~~~~~~~~~~~~~~~~~~~~~~~~~~~~~~~~~~~~~~~~~~~~~~~~~~~~~~~~~~~~~\n",
    "        \n",
    "        \n",
    "print(f'\\n ~~~~~ training is done ~~~~~\\n ')\n",
    "                "
   ]
  },
  {
   "cell_type": "code",
   "execution_count": 9,
   "id": "295bf799",
   "metadata": {},
   "outputs": [
    {
     "data": {
      "image/png": "[encoded data removed]",
      "text/plain": [
       "<Figure size 432x288 with 1 Axes>"
      ]
     },
     "metadata": {
      "needs_background": "light"
     },
     "output_type": "display_data"
    }
   ],
   "source": [
    "plt.plot(Train_Loss, label='train set')\n",
    "plt.ylabel('loss on training set',fontsize=15)\n",
    "plt.xlabel('training steps',fontsize=15)\n",
    "plt.yticks(fontsize=13)\n",
    "plt.xticks(fontsize=13)\n",
    "plt.show()"
   ]
  },
  {
   "cell_type": "markdown",
   "id": "6bc68efa",
   "metadata": {},
   "source": [
    "## Performance estimation"
   ]
  },
  {
   "cell_type": "code",
   "execution_count": 10,
   "id": "989a931a",
   "metadata": {
    "scrolled": false
   },
   "outputs": [
    {
     "name": "stdout",
     "output_type": "stream",
     "text": [
      "              precision    recall  f1-score   support\n",
      "\n",
      "           0       0.95      0.97      0.96      5923\n",
      "           1       0.96      0.97      0.97      6742\n",
      "           2       0.92      0.91      0.91      5958\n",
      "           3       0.88      0.92      0.90      6131\n",
      "           4       0.94      0.91      0.93      5842\n",
      "           5       0.90      0.91      0.90      5421\n",
      "           6       0.94      0.96      0.95      5918\n",
      "           7       0.94      0.93      0.94      6265\n",
      "           8       0.94      0.85      0.89      5851\n",
      "           9       0.89      0.92      0.90      5949\n",
      "\n",
      "    accuracy                           0.93     60000\n",
      "   macro avg       0.93      0.93      0.93     60000\n",
      "weighted avg       0.93      0.93      0.93     60000\n",
      "\n",
      "[[5757    4   19   18    9   25   47    7   33    4]\n",
      " [   4 6571   57   18   10   16   12   12   30   12]\n",
      " [  62   20 5430  107   66   17   61   82   99   14]\n",
      " [  16    6  161 5628   11   84   24   83   67   51]\n",
      " [   7   23   63    6 5341    1   65   10   35  291]\n",
      " [  56    9   22  196   24 4916   91   29   30   48]\n",
      " [  52   13   30    3   12  121 5679    0    6    2]\n",
      " [  28   53   55   46   61   21    5 5818    9  169]\n",
      " [  49  116   74  250   41  203   48   19 4966   85]\n",
      " [  50   11   19  117  118   43    3  110   23 5455]] = confusion matrix on train set\n",
      "average f1_score on train set = 0.93\n",
      "loss on train set = 1.598\n",
      "roc_auc_score on train set = 0.99 \n",
      "\n",
      "              precision    recall  f1-score   support\n",
      "\n",
      "           0       0.95      0.98      0.96       980\n",
      "           1       0.97      0.99      0.98      1135\n",
      "           2       0.93      0.91      0.92      1032\n",
      "           3       0.88      0.93      0.91      1010\n",
      "           4       0.94      0.92      0.93       982\n",
      "           5       0.91      0.91      0.91       892\n",
      "           6       0.94      0.95      0.94       958\n",
      "           7       0.94      0.91      0.92      1028\n",
      "           8       0.94      0.87      0.90       974\n",
      "           9       0.91      0.92      0.91      1009\n",
      "\n",
      "    accuracy                           0.93     10000\n",
      "   macro avg       0.93      0.93      0.93     10000\n",
      "weighted avg       0.93      0.93      0.93     10000\n",
      "\n",
      "[[ 960    0    1    2    0    6    9    1    1    0]\n",
      " [   0 1120    4    3    1    0    4    0    3    0]\n",
      " [   9    1  943   18    5    4    7   15   26    4]\n",
      " [   2    0   17  943    2   16    3   15    7    5]\n",
      " [   1    3   11    0  904    0   11    1    7   44]\n",
      " [   7    0    2   29    1  814   16   11    5    7]\n",
      " [  10    4    4    0    7   22  909    0    2    0]\n",
      " [   4   14   19   10    7    4    1  936    1   32]\n",
      " [   7    4   13   42   10   28   11   10  844    5]\n",
      " [  12    6    2   22   23    5    1    9    1  928]] = confusion matrix on test set\n",
      "average f1_score on test set = 0.93\n",
      "loss on test set = 1.596\n",
      "roc_auc_score on test set = 0.99 \n",
      "\n"
     ]
    }
   ],
   "source": [
    "def probabilities(dataloader, model):\n",
    "    model.eval()\n",
    "    with torch.no_grad():\n",
    "        ys, probs = torch.tensor([]), torch.tensor([]) \n",
    "        for X, y in dataloader:\n",
    "            X, y = X.to(device), y.to(device)\n",
    "            ys = torch.cat((ys, y), 0)\n",
    "            \n",
    "            prob = model(X)\n",
    "            probs = torch.cat((probs, prob), 0)\n",
    "    return ys, probs\n",
    "\n",
    "\n",
    "\n",
    "def performance_estimate(y, prob, dataset_name):\n",
    "    '''With a model, this function computes loss and other metrics on the training or test set'''\n",
    "    y = y.to(torch.int64)\n",
    "    loss = loss_fn(prob, y).item()\n",
    "    \n",
    "    prob = F.softmax(prob, dim=-1)                              # to make individual probabilities add to one\n",
    "    au_roc = roc_auc_score(y, prob, multi_class='ovr')\n",
    "    \n",
    "            \n",
    "    y_pred = prob.argmax(1)\n",
    "    f1 = f1_score(y, y_pred, average='macro')\n",
    "            \n",
    "    print(classification_report(y, y_pred))\n",
    "    print(confusion_matrix(y, y_pred), f\"= confusion matrix on {dataset_name} set\")\n",
    "    \n",
    "    print(f\"average f1_score on {dataset_name} set = {f1:.2f}\")\n",
    "    print(f\"loss on {dataset_name} set = {loss:.3f}\")\n",
    "    print(f\"roc_auc_score on {dataset_name} set = {au_roc:.2f} \\n\")\n",
    "    \n",
    "    return\n",
    "\n",
    "#==================================================================================================\n",
    "\n",
    "\n",
    "y_train, prob_train = probabilities(train_dataloader, model)\n",
    "performance_estimate(y_train, prob_train, 'train')\n",
    "\n",
    "y_test, prob_test = probabilities(test_dataloader, model)\n",
    "performance_estimate(y_test, prob_test, 'test')\n"
   ]
  },
  {
   "cell_type": "markdown",
   "id": "4fc0ef7d",
   "metadata": {},
   "source": [
    "## Results:\n",
    "\n",
    "With Ls = [2, 2] we get\n",
    "\n",
    "accuracy on MNIST test set = 0.93 <br>\n",
    "average f1_score on MNIST test set = 0.93\n",
    "\n",
    "accuracy on FashionMNIST test set = 0.83 <br>\n",
    "average f1_score on FashionMNIST test set = 0.83\n",
    "\n",
    "\n",
    "$----------------------------------------$\n",
    "\n",
    "\n",
    "With Ls = [1, 1] we get\n",
    "\n",
    "accuracy on MNIST text set = 0.89 <br>\n",
    "average f1_score on MNIST test set = 0.89\n",
    "\n",
    "accuracy on FashionMNIST test set = 0.78 <br>\n",
    "average f1_score on FashionMNIST test set = 0.77\n"
   ]
  },
  {
   "cell_type": "markdown",
   "id": "52a30c42",
   "metadata": {},
   "source": [
    "## Predict a test example's class"
   ]
  },
  {
   "cell_type": "code",
   "execution_count": 11,
   "id": "b5be82d3",
   "metadata": {
    "scrolled": false
   },
   "outputs": [
    {
     "name": "stdout",
     "output_type": "stream",
     "text": [
      "x of torch.Size([1, 16, 16]) :\n"
     ]
    },
    {
     "data": {
      "image/png": "[encoded data removed]",
      "text/plain": [
       "<Figure size 432x288 with 1 Axes>"
      ]
     },
     "metadata": {
      "needs_background": "light"
     },
     "output_type": "display_data"
    },
    {
     "name": "stdout",
     "output_type": "stream",
     "text": [
      "true label = y = 1\n",
      "\n",
      "predicted label = 1\n",
      "\n"
     ]
    },
    {
     "data": {
      "image/png": "[encoded data removed]",
      "text/plain": [
       "<Figure size 432x288 with 1 Axes>"
      ]
     },
     "metadata": {
      "needs_background": "light"
     },
     "output_type": "display_data"
    },
    {
     "name": "stdout",
     "output_type": "stream",
     "text": [
      "The individual probabilities do not necessarily add to one: their sum = 1.051\n",
      "loss = 1.4691\n"
     ]
    },
    {
     "data": {
      "text/plain": [
       "True"
      ]
     },
     "execution_count": 11,
     "metadata": {},
     "output_type": "execute_result"
    }
   ],
   "source": [
    "idx = np.random.choice(len(test_dataset))\n",
    "\n",
    "x = test_dataset[idx][0]\n",
    "print(f'x of {x.shape} :')\n",
    "plt.imshow(x[0], cmap='gray')\n",
    "plt.show()\n",
    "\n",
    "y_ = test_dataset[idx][1]\n",
    "print(f'true label = y = {y_}\\n')\n",
    "\n",
    "\n",
    "prob = model(x[0]).detach().flatten()\n",
    "#prob = F.softmax(prob, dim=-1)                      # to make individual probabilities add to one\n",
    "pred = prob.argmax().item()\n",
    "print(f'predicted label = {pred}\\n')\n",
    "\n",
    "plt.stem(classes, prob)\n",
    "plt.ylabel('individual probabilities')\n",
    "plt.xlabel('class labels')\n",
    "plt.xticks(classes)\n",
    "plt.show()\n",
    "\n",
    "\n",
    "print(f'The individual probabilities do not necessarily add to one: their sum = {round(torch.sum(prob).item(),3)}')\n",
    "print(f'loss = {round(-torch.log(F.softmax(prob, dim=-1)[y_]).item(), 4)}')\n",
    "\n",
    "total_params = sum(p.numel() for p in model.parameters() if p.requires_grad)\n",
    "total_params == num_phases"
   ]
  },
  {
   "cell_type": "markdown",
   "id": "2c75a3b1",
   "metadata": {},
   "source": [
    "# \n",
    "\n",
    "$ $"
   ]
  }
 ],
 "metadata": {
  "kernelspec": {
   "display_name": "Python 3 (ipykernel)",
   "language": "python",
   "name": "python3"
  },
  "language_info": {
   "codemirror_mode": {
    "name": "ipython",
    "version": 3
   },
   "file_extension": ".py",
   "mimetype": "text/x-python",
   "name": "python",
   "nbconvert_exporter": "python",
   "pygments_lexer": "ipython3",
   "version": "3.10.12"
  }
 },
 "nbformat": 4,
 "nbformat_minor": 5
}
